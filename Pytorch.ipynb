{
  "nbformat": 4,
  "nbformat_minor": 0,
  "metadata": {
    "colab": {
      "provenance": [],
      "gpuType": "T4",
      "authorship_tag": "ABX9TyMTr+YLUMJRaxRf/edUR09D"
    },
    "kernelspec": {
      "name": "python3",
      "display_name": "Python 3"
    },
    "language_info": {
      "name": "python"
    },
    "accelerator": "GPU"
  },
  "cells": [
    {
      "cell_type": "code",
      "execution_count": 1,
      "metadata": {
        "id": "Mf2xQLAt8ehZ"
      },
      "outputs": [],
      "source": [
        "import torch\n",
        "from torch import nn"
      ]
    },
    {
      "cell_type": "code",
      "source": [
        "if torch.cuda.is_available():\n",
        "    device = torch.device('cuda')\n",
        "else:\n",
        "    device = torch.device('cpu')\n",
        "\n",
        "print(device)"
      ],
      "metadata": {
        "colab": {
          "base_uri": "https://localhost:8080/"
        },
        "id": "eySDgunC8lqD",
        "outputId": "7b2797b1-2401-42c3-dbe2-610f2276218a"
      },
      "execution_count": 2,
      "outputs": [
        {
          "output_type": "stream",
          "name": "stdout",
          "text": [
            "cuda\n"
          ]
        }
      ]
    },
    {
      "cell_type": "code",
      "source": [
        "from sklearn import datasets\n",
        "\n",
        "wine = datasets.load_wine()\n",
        "data = wine.data\n",
        "target = wine.target\n",
        "\n",
        "print(data.shape, target.shape)\n",
        "print(wine.feature_names, wine.target_names)"
      ],
      "metadata": {
        "colab": {
          "base_uri": "https://localhost:8080/"
        },
        "id": "elho9yMC8nvq",
        "outputId": "74136f2f-86ee-491d-ecef-58a69a258e57"
      },
      "execution_count": 3,
      "outputs": [
        {
          "output_type": "stream",
          "name": "stdout",
          "text": [
            "(178, 13) (178,)\n",
            "['alcohol', 'malic_acid', 'ash', 'alcalinity_of_ash', 'magnesium', 'total_phenols', 'flavanoids', 'nonflavanoid_phenols', 'proanthocyanins', 'color_intensity', 'hue', 'od280/od315_of_diluted_wines', 'proline'] ['class_0' 'class_1' 'class_2']\n"
          ]
        }
      ]
    },
    {
      "cell_type": "code",
      "source": [
        "class WineClassifier(nn.Module):\n",
        "\n",
        "    def __init__(self, input_size, hidden_size, out_size):\n",
        "        super(WineClassifier, self).__init__()\n",
        "\n",
        "        self.hidden = nn.Linear(input_size, hidden_size)\n",
        "        self.relu = nn.ReLU()\n",
        "        self.out = nn.Linear(hidden_size, out_size)\n",
        "        self.softmax = nn.Softmax()\n",
        "\n",
        "    def forward(self, X):\n",
        "\n",
        "        feature = self.relu(self.hidden(X))\n",
        "        output = self.softmax(self.out(feature))\n",
        "\n",
        "        return output\n",
        "\n",
        "input_size = data.shape[1]\n",
        "hidden_size = 35\n",
        "out_size = len(wine.target_names)\n",
        "\n",
        "net = WineClassifier(input_size, hidden_size, out_size).to(device)\n",
        "print(net)"
      ],
      "metadata": {
        "colab": {
          "base_uri": "https://localhost:8080/"
        },
        "id": "8OBZEnJm8qp3",
        "outputId": "afb990b4-3cad-4338-cadb-52a0ac8072b5"
      },
      "execution_count": 28,
      "outputs": [
        {
          "output_type": "stream",
          "name": "stdout",
          "text": [
            "WineClassifier(\n",
            "  (hidden): Linear(in_features=13, out_features=35, bias=True)\n",
            "  (relu): ReLU()\n",
            "  (out): Linear(in_features=35, out_features=3, bias=True)\n",
            "  (softmax): Softmax(dim=None)\n",
            ")\n"
          ]
        }
      ]
    },
    {
      "cell_type": "code",
      "source": [
        "criterion = nn.CrossEntropyLoss().to(device)"
      ],
      "metadata": {
        "id": "6Oi9WmN-8vm9"
      },
      "execution_count": 29,
      "outputs": []
    },
    {
      "cell_type": "code",
      "source": [
        "Xtns = torch.from_numpy(data).float()\n",
        "Ytns = torch.from_numpy(target)\n",
        "\n",
        "Xtns = Xtns.to(device)\n",
        "Ytns = Ytns.to(device)\n",
        "\n",
        "print(Xtns.dtype, Ytns.dtype)"
      ],
      "metadata": {
        "colab": {
          "base_uri": "https://localhost:8080/"
        },
        "id": "x_m4zKQB85D6",
        "outputId": "43235f06-b94b-4712-d54e-b68d52f4821b"
      },
      "execution_count": 30,
      "outputs": [
        {
          "output_type": "stream",
          "name": "stdout",
          "text": [
            "torch.float32 torch.int64\n"
          ]
        }
      ]
    },
    {
      "cell_type": "code",
      "source": [
        "pred = net(Xtns)\n",
        "print(pred.shape, Ytns.shape)"
      ],
      "metadata": {
        "colab": {
          "base_uri": "https://localhost:8080/"
        },
        "id": "l34r1M6P9II1",
        "outputId": "0393dd19-91c5-4a4f-ab47-daa31e7ddc50"
      },
      "execution_count": 31,
      "outputs": [
        {
          "output_type": "stream",
          "name": "stdout",
          "text": [
            "torch.Size([178, 3]) torch.Size([178])\n"
          ]
        },
        {
          "output_type": "stream",
          "name": "stderr",
          "text": [
            "<ipython-input-28-7f627939815b>:14: UserWarning: Implicit dimension choice for softmax has been deprecated. Change the call to include dim=X as an argument.\n",
            "  output = self.softmax(self.out(feature))\n"
          ]
        }
      ]
    },
    {
      "cell_type": "code",
      "source": [
        "loss = criterion(pred, Ytns)\n",
        "print(loss)"
      ],
      "metadata": {
        "colab": {
          "base_uri": "https://localhost:8080/"
        },
        "id": "UYcLm_gg9U4y",
        "outputId": "f0dc2e4f-b8e9-45f2-e145-df7622c740c8"
      },
      "execution_count": 32,
      "outputs": [
        {
          "output_type": "stream",
          "name": "stdout",
          "text": [
            "tensor(1.2818, device='cuda:0', grad_fn=<NllLossBackward0>)\n"
          ]
        }
      ]
    }
  ]
}